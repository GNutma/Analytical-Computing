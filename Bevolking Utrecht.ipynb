{
 "cells": [
  {
   "cell_type": "code",
   "execution_count": 47,
   "metadata": {},
   "outputs": [
    {
     "name": "stdout",
     "output_type": "stream",
     "text": [
      "Processed 224 lines.\n"
     ]
    }
   ],
   "source": [
    "import csv\n",
    "import numpy as np\n",
    "import matplotlib.pyplot as plt\n",
    "\n",
    "filename = 'utrecht.csv'\n",
    "\n",
    "columns = {}\n",
    "rows = []\n",
    "data = {}\n",
    "\n",
    "# hulp functie om te kijken of de waarde een integer is\n",
    "def is_number(s):\n",
    "    try:\n",
    "        int(s)\n",
    "        return True\n",
    "    except ValueError:\n",
    "        return False\n",
    "\n",
    "with open(filename) as csv_file:\n",
    "    csv_reader = csv.reader(csv_file, delimiter=';')\n",
    "    line_count = 0\n",
    "    for row in csv_reader:\n",
    "        # anders reageren als het de eerste regel is, dat zijn namelijk de kolomnamen\n",
    "        if line_count == 0:\n",
    "            line_count += 1\n",
    "            i = 0\n",
    "            for c in row:\n",
    "                columns[c] = i\n",
    "                data[i] = []\n",
    "                i += 1\n",
    "        else:\n",
    "            line_count += 1\n",
    "            # alleen importeren als het maanddata is, niet de cummulatieven over een jaar\n",
    "            if 'JJ00' in row[columns['Perioden']]:\n",
    "                pass\n",
    "            else:\n",
    "                rows.append(row)\n",
    "                i = 0\n",
    "                for c in row:\n",
    "                    if is_number(c):\n",
    "                        data[i].append(int(c))\n",
    "                    else:\n",
    "                        data[i].append(c)\n",
    "                    i = i+1\n",
    "    print(f'Processed {line_count} lines.')"
   ]
  },
  {
   "cell_type": "markdown",
   "metadata": {},
   "source": [
    "## Berekenen van het Gemiddelde, Mediaan, Modus en de Standaarddeviatie"
   ]
  },
  {
   "cell_type": "markdown",
   "metadata": {},
   "source": [
    "Met de onderstaande Functie kunnen we gemakkelijk het mediaan berekeken."
   ]
  },
  {
   "cell_type": "code",
   "execution_count": 114,
   "metadata": {},
   "outputs": [],
   "source": [
    "def Mediaan(lijst):\n",
    "    lst = lijst[:]\n",
    "    while len(lst) > 2:\n",
    "        lst.pop(0)\n",
    "        lst.pop(-1)\n",
    "    if len(lst) == 2:\n",
    "        mediaan = (lst[0]+lst[1])/2\n",
    "    else:\n",
    "        mediaan == lst[0]\n",
    "    return mediaan"
   ]
  },
  {
   "cell_type": "markdown",
   "metadata": {},
   "source": [
    "Met de onderstaande Functie kunnen we gemakkelijk het gemiddelde berekeken."
   ]
  },
  {
   "cell_type": "code",
   "execution_count": 115,
   "metadata": {},
   "outputs": [],
   "source": [
    "def Gemiddelde(lijst):\n",
    "    lst = lijst[:]\n",
    "    som = 0\n",
    "    aantal_getallen =0\n",
    "    while len(lst) != 0:\n",
    "        som += lst.pop(0)\n",
    "        aantal_getallen += 1\n",
    "    som = som/aantal_getallen\n",
    "    som = round(som,2)\n",
    "    return som, aantal_getallen"
   ]
  },
  {
   "cell_type": "markdown",
   "metadata": {},
   "source": [
    "Met de onderstaande Functie kunnen we gemakkelijk het modus berekeken. hierbij maken we gebruik van een key_in_dict die bij houd hoevaak het getal voorkomt in een dictionairy"
   ]
  },
  {
   "cell_type": "code",
   "execution_count": 116,
   "metadata": {},
   "outputs": [],
   "source": [
    "def key_in_dict(key, dict):\n",
    "    if key not in dict.keys():\n",
    "        dict.update({key: 1})\n",
    "    elif key in dict.keys():\n",
    "        dict.update({key: (dict.get(key) + 1)})\n",
    "    \n",
    "def Modus(lijst):\n",
    "    dict={}\n",
    "    for getal in lijst:\n",
    "        key_in_dict(getal, dict)\n",
    "    meest_voorkomend= [0,0]\n",
    "    for getal in dict:\n",
    "        if meest_voorkomend[1] < dict.get(getal):\n",
    "            meest_voorkomend = [getal,dict.get(getal)]    \n",
    "    return (meest_voorkomend[0])"
   ]
  },
  {
   "cell_type": "markdown",
   "metadata": {},
   "source": [
    "Met de onderstaande Functie berekenen we de Standaarddeviatie."
   ]
  },
  {
   "cell_type": "code",
   "execution_count": 118,
   "metadata": {},
   "outputs": [],
   "source": [
    "def Standaarddeviatie(lijst):\n",
    "    gem = Gemiddelde(lijst)[0]\n",
    "    aantal_getalllen = Gemiddelde(lijst)[1]\n",
    "    lst = lijst[:]\n",
    "    lst2 =[]\n",
    "    while len(lst) != 0:\n",
    "        lst2.append(lst.pop(0)-gem)    \n",
    "    while len(lst2) !=0:\n",
    "        lst.append(lst2[0]*lst2.pop(0))\n",
    "    d = Gemiddelde(lst)[0]\n",
    "    return round(np.sqrt(d),2)"
   ]
  },
  {
   "cell_type": "markdown",
   "metadata": {},
   "source": [
    "Deze onderstaande functie print mooi de gegeven statistieken uit waarbij alle bovenstaande functies gebruikt worden"
   ]
  },
  {
   "cell_type": "code",
   "execution_count": 233,
   "metadata": {},
   "outputs": [
    {
     "name": "stdout",
     "output_type": "stream",
     "text": [
      "Statistieken van de geboren kinderen in Utrecht\n",
      "\\het gemiddelde:\t\t396.03\n",
      "de Mediaan:\t\t\t462.5\n",
      "het Modus:\t\t\t392\n",
      "en de Standaarddeviatie:\t38.55\n",
      "\n",
      "Statistieken van de overledenen in Utrecht\n",
      "\\het gemiddelde:\t\t158.55\n",
      "de Mediaan:\t\t\t138.5\n",
      "het Modus:\t\t\t156\n",
      "en de Standaarddeviatie:\t18.57\n",
      "\n"
     ]
    }
   ],
   "source": [
    "def printtekst(naam, data):\n",
    "    print(\"Statistieken van de {} in Utrecht\\n\\het gemiddelde:\\t\\t{}\\nde Mediaan:\\t\\t\\t{}\\nhet Modus:\\t\\t\\t{}\\nen de Standaarddeviatie:\\t{}\\n\"\n",
    "      .format(naam,Gemiddelde(data)[0],Mediaan(data),Modus(data),Standaarddeviatie(data)))\n",
    "    \n",
    "printtekst(\"geboren kinderen\",data[columns['LevendGeborenKinderen_2']])\n",
    "printtekst(\"overledenen\",data[columns['Overledenen_3']])\n"
   ]
  },
  {
   "cell_type": "markdown",
   "metadata": {},
   "source": [
    "## een trendlijn maken en plotten"
   ]
  },
  {
   "cell_type": "markdown",
   "metadata": {},
   "source": [
    "Met de numpy functie polyfit en poly1d kunnen we een lijn opstellen die de trendlijn is van de bevolkings groei van het jaar 2018."
   ]
  },
  {
   "cell_type": "code",
   "execution_count": 230,
   "metadata": {},
   "outputs": [
    {
     "data": {
      "image/png": "[encoded data removed]",
      "text/plain": [
       "<Figure size 432x288 with 1 Axes>"
      ]
     },
     "metadata": {
      "needs_background": "light"
     },
     "output_type": "display_data"
    }
   ],
   "source": [
    "x = data[columns['Perioden']][-14:-2]\n",
    "y = data[columns['BevolkingsgroeiSinds1Januari_13']][-14:-2]\n",
    "plt.plot(x,y,'o')\n",
    "plt.xticks(rotation=90)\n",
    "plt.show()"
   ]
  },
  {
   "cell_type": "markdown",
   "metadata": {},
   "source": [
    "Nu maken we een trendlijn voor deze stippel grafiek. doormiddel van de gemaakte functie Lineare_lijn() die de a en b waardes van de standaard lineaire formule berekent(y=ax+b). zodat er daarna een lijn geplot kan worden met matplotlib"
   ]
  },
  {
   "cell_type": "code",
   "execution_count": 228,
   "metadata": {},
   "outputs": [
    {
     "name": "stdout",
     "output_type": "stream",
     "text": [
      "de Formule van de trendlijn is:\n",
      "\ty=439.1643356643357x + -458.9848484848485\n"
     ]
    },
    {
     "data": {
      "image/png": "[encoded data removed]",
      "text/plain": [
       "<Figure size 432x288 with 1 Axes>"
      ]
     },
     "metadata": {
      "needs_background": "light"
     },
     "output_type": "display_data"
    }
   ],
   "source": [
    "x = list(range(1,13))\n",
    "y = data[columns['BevolkingsgroeiSinds1Januari_13']][-14:-2]\n",
    "plt.plot(x,y,'o')\n",
    "\n",
    "def Lineaire_lijn(X, Y):\n",
    "    N = len(X)\n",
    "    Vx = 0.0\n",
    "    Vy = 0.0\n",
    "    Vx2 = 0.0\n",
    "    Vy2 = 0.0\n",
    "    Vxy = 0.0\n",
    "    for x, y in zip(X, Y):\n",
    "        Vx += x\n",
    "        Vy += y\n",
    "        Vx2 += x*x\n",
    "        Vy2 += y*y\n",
    "        Vxy += x*y\n",
    "    determinant = Vx2 * N - Vx * Vx\n",
    "    return (Vxy * N - Vy * Vx)/determinant, (Vx2 * Vy - Vx * Vxy)/determinant\n",
    "\n",
    "\n",
    "a,b = Lineaire_lijn(x,y)\n",
    "print(\"de Formule van de trendlijn is:\\n\\ty={}x + {}\".format(a,b))\n",
    "\n",
    "x = np.linspace(0,12,100)\n",
    "y = a*x+b\n",
    "plt.plot(x, y, '-r')\n",
    "plt.show()"
   ]
  },
  {
   "cell_type": "markdown",
   "metadata": {},
   "source": [
    "nu kunnen we gemakkelijk zien dat de Bevolkingsgroei van 2018 behoorlijk was in de Gemeente Utrecht"
   ]
  },
  {
   "cell_type": "code",
   "execution_count": null,
   "metadata": {},
   "outputs": [],
   "source": []
  }
 ],
 "metadata": {
  "kernelspec": {
   "display_name": "Python 3",
   "language": "python",
   "name": "python3"
  },
  "language_info": {
   "codemirror_mode": {
    "name": "ipython",
    "version": 3
   },
   "file_extension": ".py",
   "mimetype": "text/x-python",
   "name": "python",
   "nbconvert_exporter": "python",
   "pygments_lexer": "ipython3",
   "version": "3.7.3"
  }
 },
 "nbformat": 4,
 "nbformat_minor": 2
}
