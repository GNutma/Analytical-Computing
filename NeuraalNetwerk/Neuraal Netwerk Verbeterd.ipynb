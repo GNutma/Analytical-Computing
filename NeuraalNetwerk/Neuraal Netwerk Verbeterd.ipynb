{
 "cells": [
  {
   "cell_type": "markdown",
   "metadata": {},
   "source": [
    "# neuraal netwerk met documentatie\n",
    "### neuraal netwerk met 1 laag"
   ]
  },
  {
   "cell_type": "markdown",
   "metadata": {},
   "source": [
    "Als aller eerste importeren we json en numpy zodat we het bestand kunnen lezen en numpy berekeningen kunnen uitvoeren."
   ]
  },
  {
   "cell_type": "code",
   "execution_count": 22,
   "metadata": {},
   "outputs": [],
   "source": [
    "import json\n",
    "import numpy as np"
   ]
  },
  {
   "cell_type": "markdown",
   "metadata": {},
   "source": [
    "#### Inlezen van de file\n",
    "nu openen we de file die we moeten lezen.\n",
    "en geven we de variabele \"data\" aan het geopende bestand"
   ]
  },
  {
   "cell_type": "code",
   "execution_count": 23,
   "metadata": {},
   "outputs": [],
   "source": [
    "with open(\"example.json\") as f:\n",
    "    data = json.load(f)"
   ]
  },
  {
   "cell_type": "markdown",
   "metadata": {},
   "source": [
    "#### Het aanmaken van de Inputvector\n",
    "Als allereerste moeten we de Inputverctor waarmee de berekeningen worden uitgevoerd.\n",
    "Deze halen we op door in de eerste laag te kijken wat de \"size_in\" waarde is.\n",
    "Daarna een lijst aantemaken te grootte van de waarde van \"size_in\" met alle waardes gelijk aan 1"
   ]
  },
  {
   "cell_type": "code",
   "execution_count": 24,
   "metadata": {},
   "outputs": [
    {
     "name": "stdout",
     "output_type": "stream",
     "text": [
      "Inputvector:\n",
      "\t1\t1\t1\t1\t1\t\n",
      "\n"
     ]
    }
   ],
   "source": [
    "for layer in data:\n",
    "    layer = data[layer]\n",
    "    size_in = int(layer[\"size_in\"])\n",
    "    break\n",
    "\n",
    "VectorX = []\n",
    "for i in range(size_in):\n",
    "    VectorX.append(1)\n",
    "\n",
    "print(\"Inputvector:\\n\\t\",end=\"\")\n",
    "for item in VectorX:\n",
    "    print(round(item,2), end='\\t')\n",
    "print(\"\\n\")"
   ]
  },
  {
   "cell_type": "markdown",
   "metadata": {},
   "source": [
    "#### Het rekenen met Matrixen\n",
    "Nu beginnen we met de echte berekeningen.\n",
    "Als eerst Creeeren we een matrix met de grootte \"size_out\" x \"size_in\" waarbij alle waardes gelijk zijn aan 0.\n",
    "nu lezen we af uit de file waar in de matrix de waardes moeten veranderen en wat deze waarde dan moet zijn. en deze waarde vermenigvuldigen we met de corresponderende input,van de inputvector. \n",
    "Hierna printen we de Matrix uit."
   ]
  },
  {
   "cell_type": "code",
   "execution_count": 25,
   "metadata": {},
   "outputs": [
    {
     "name": "stdout",
     "output_type": "stream",
     "text": [
      "Matrix van laag 1:\n",
      "\t0.5\t0.2\t0.0\t0.0\t-0.2\t\n",
      "\t0.2\t-0.5\t-0.1\t0.9\t-0.8\t\n",
      "\t0.0\t0.2\t0.0\t0.1\t-0.1\t\n",
      "\t0.1\t0.8\t0.3\t0.0\t-0.7\t\n",
      "\n"
     ]
    }
   ],
   "source": [
    "lagen = 0\n",
    "for layer in data:\n",
    "    layer = data[layer]\n",
    "    shape = (int(layer[\"size_out\"]),int(layer[\"size_in\"]))\n",
    "    Matrix = np.zeros(shape)\n",
    "    lagen +=1\n",
    "    for laag in layer[\"weights\"]:\n",
    "        for getal in layer[\"weights\"][laag]:\n",
    "            waarde = float(layer[\"weights\"][laag][getal])*(VectorX[int(laag)-1])\n",
    "            Matrix[int(getal)-1,int(laag)-1] = waarde\n",
    "            \n",
    "    print(\"Matrix van laag {}:\".format(lagen))\n",
    "    for row in Matrix:\n",
    "        print(\"\\t\",end=\"\")\n",
    "        for item in row:   \n",
    "            print(round(item,2), end = '\\t')\n",
    "        print()\n",
    "    print()\n",
    "    VectorY = (np.sum(Matrix, axis=1))"
   ]
  },
  {
   "cell_type": "markdown",
   "metadata": {},
   "source": [
    "#### Het Uitkomen van de Matrix(en)\n",
    "om de Output te weten van de Matrix tellen we elk getal in een rij op en dit is dan de uitkomst."
   ]
  },
  {
   "cell_type": "code",
   "execution_count": 26,
   "metadata": {},
   "outputs": [
    {
     "name": "stdout",
     "output_type": "stream",
     "text": [
      "Uitkomen van de matrix(en):\n",
      "\t0.5\t-0.3\t0.2\t0.5\t"
     ]
    }
   ],
   "source": [
    "print(\"Uitkomen van de matrix(en):\\n\\t\",end=\"\")\n",
    "for item in VectorY:\n",
    "    print(round(item,2), end='\\t')"
   ]
  },
  {
   "cell_type": "markdown",
   "metadata": {},
   "source": [
    "### neuraal netwerk met 2 lagen\n",
    "Dit kunnen we dan natuurlijk ook doen voor het tweede bestand, example-2layer.json."
   ]
  },
  {
   "cell_type": "code",
   "execution_count": 13,
   "metadata": {},
   "outputs": [
    {
     "name": "stdout",
     "output_type": "stream",
     "text": [
      "Inputvector:\n",
      "\t1\t1\t1\t1\t1\t\n",
      "\n",
      "Matrix van laag 1:\n",
      "\t0.5\t0.2\t0.0\t0.0\t-0.2\t\n",
      "\t0.2\t-0.5\t-0.1\t0.9\t-0.8\t\n",
      "\t0.0\t0.2\t0.0\t0.1\t-0.1\t\n",
      "\t0.1\t0.8\t0.3\t0.0\t-0.7\t\n",
      "\n",
      "Matrix van laag 2:\n",
      "\t0.5\t0.2\t-0.1\t0.9\t\n",
      "\t0.2\t-0.5\t0.3\t0.1\t\n",
      "\n",
      "Uitkomen van de matrix(en):\n",
      "\t1.5\t0.1\t"
     ]
    }
   ],
   "source": [
    "with open(\"example-2layer.json\") as f:\n",
    "    data = json.load(f)\n",
    "\n",
    "for layer in data:\n",
    "    layer = data[layer]\n",
    "    size_in = int(layer[\"size_in\"])\n",
    "    break\n",
    "\n",
    "VectorX = []\n",
    "for i in range(size_in):\n",
    "    VectorX.append(1)\n",
    "\n",
    "print(\"Inputvector:\\n\\t\",end=\"\")\n",
    "for item in VectorX:\n",
    "    print(round(item,2), end='\\t')\n",
    "print(\"\\n\")\n",
    "\n",
    "lagen = 0\n",
    "for layer in data:\n",
    "    layer = data[layer]\n",
    "    shape = (int(layer[\"size_out\"]),int(layer[\"size_in\"]))\n",
    "    Matrix = np.zeros(shape)\n",
    "    lagen +=1\n",
    "    for laag in layer[\"weights\"]:\n",
    "        for getal in layer[\"weights\"][laag]:\n",
    "            waarde = float(layer[\"weights\"][laag][getal])*(VectorX[int(laag)-1])\n",
    "            Matrix[int(getal)-1,int(laag)-1] = waarde\n",
    "            \n",
    "    print(\"Matrix van laag {}:\".format(lagen))\n",
    "    for row in Matrix:\n",
    "        print(\"\\t\",end=\"\")\n",
    "        for item in row:   \n",
    "            print(round(item,2), end = '\\t')\n",
    "        print()\n",
    "    print()\n",
    "    VectorY = (np.sum(Matrix, axis=1))\n",
    "\n",
    "print(\"Uitkomen van de matrix(en):\\n\\t\",end=\"\")\n",
    "for item in VectorY:\n",
    "    print(round(item,2), end='\\t')"
   ]
  }
 ],
 "metadata": {
  "kernelspec": {
   "display_name": "Python 3",
   "language": "python",
   "name": "python3"
  },
  "language_info": {
   "codemirror_mode": {
    "name": "ipython",
    "version": 3
   },
   "file_extension": ".py",
   "mimetype": "text/x-python",
   "name": "python",
   "nbconvert_exporter": "python",
   "pygments_lexer": "ipython3",
   "version": "3.7.3"
  }
 },
 "nbformat": 4,
 "nbformat_minor": 2
}
