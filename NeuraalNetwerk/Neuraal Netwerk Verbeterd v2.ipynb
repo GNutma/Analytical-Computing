{
 "cells": [
  {
   "cell_type": "markdown",
   "metadata": {},
   "source": [
    "# neuraal netwerk met documentatie\n",
    "### neuraal netwerk met 1 laag"
   ]
  },
  {
   "cell_type": "markdown",
   "metadata": {},
   "source": [
    "Als aller eerste importeren we json en numpy zodat we het bestand kunnen lezen en numpy berekeningen kunnen uitvoeren."
   ]
  },
  {
   "cell_type": "code",
   "execution_count": 10,
   "metadata": {},
   "outputs": [],
   "source": [
    "import json\n",
    "import numpy as np"
   ]
  },
  {
   "cell_type": "markdown",
   "metadata": {},
   "source": [
    "#### Gemaakte Functie's\n",
    "als aller eerste maken we fucntie MatrixVermenigvuldiging() die als argumenten Matrix1 en Matrix2 meekrijgt. Hiermee worden de 2 matrixen en ook Vector X met elkaar vermeinigvuldigd. na alles te vermeingvuldigen returnt MatrixVermenigvuldiging() de uitkomen van de Matrix(en)<br><br>\n",
    "hiernaast hebben we een printmatrix() functie die simpelweg de Matrix gewoon uitprint."
   ]
  },
  {
   "cell_type": "code",
   "execution_count": 11,
   "metadata": {},
   "outputs": [],
   "source": [
    "def MatrixVermenigvuldiging(matrix1, matrix2):\n",
    "    Vermenigdvuldig_Matrix = [[0 for i in range(len(matrix2[0]))] for j in range(len(matrix1))]\n",
    "    for a in range(0, len(matrix1)):\n",
    "        for b in range(0, len(matrix2[0])):\n",
    "            for c in range(0, len(matrix1[0])):\n",
    "                Vermenigdvuldig_Matrix[a][b] += matrix1[a][c] * matrix2[c][b]\n",
    "    return Vermenigdvuldig_Matrix\n",
    "\n",
    "def printmatrix(matrix):\n",
    "    print(\"Matrix van laag {}:\".format(lagen))\n",
    "    for row in matrix:\n",
    "        print(\"\\t\",end=\"\")\n",
    "        for item in row:   \n",
    "            print(round(item,2), end = '\\t')\n",
    "        print()\n",
    "    print()"
   ]
  },
  {
   "cell_type": "markdown",
   "metadata": {},
   "source": [
    "#### Inlezen van de file\n",
    "nu openen we de file die we moeten lezen.\n",
    "en geven we de variabele \"data\" aan het geopende bestand"
   ]
  },
  {
   "cell_type": "code",
   "execution_count": 12,
   "metadata": {},
   "outputs": [],
   "source": [
    "with open(\"example.json\") as f:\n",
    "    data = json.load(f)"
   ]
  },
  {
   "cell_type": "markdown",
   "metadata": {},
   "source": [
    "#### Het aanmaken van de Inputvector\n",
    "Als allereerste moeten we de Inputverctor waarmee de berekeningen worden uitgevoerd.\n",
    "Deze halen we op door in de eerste laag te kijken wat de \"size_in\" waarde is.\n",
    "Daarna een lijst aantemaken te grootte van de waarde van \"size_in\" met alle waardes gelijk aan 1"
   ]
  },
  {
   "cell_type": "code",
   "execution_count": 13,
   "metadata": {},
   "outputs": [
    {
     "name": "stdout",
     "output_type": "stream",
     "text": [
      "Inputvector:\n",
      "\t1\t1\t1\t1\t1\t\n",
      "\n"
     ]
    }
   ],
   "source": [
    "VectorX = []\n",
    "size_in = int(data[list(data.keys())[0]][\"size_in\"])\n",
    "for i in range(size_in):\n",
    "    VectorX.append([1])\n",
    "\n",
    "print(\"Inputvector:\\n\\t\",end=\"\")\n",
    "for item in VectorX:\n",
    "    print(round(item[0],2), end='\\t')\n",
    "print(\"\\n\")"
   ]
  },
  {
   "cell_type": "markdown",
   "metadata": {},
   "source": [
    "#### Het rekenen met Matrixen\n",
    "Nu beginnen we met de echte berekeningen.\n",
    "Als eerst Creeeren we een matrix met de grootte \"size_out\" x \"size_in\" waarbij alle waardes gelijk zijn aan 0.\n",
    "nu lezen we af uit de file waar in de matrix de waardes moeten veranderen en wat deze waarde dan moet zijn. en deze waarde vermenigvuldigen we met de corresponderende input,van de inputvector. \n",
    "Hierna printen we de Matrix(en) uit."
   ]
  },
  {
   "cell_type": "code",
   "execution_count": 14,
   "metadata": {},
   "outputs": [
    {
     "name": "stdout",
     "output_type": "stream",
     "text": [
      "Matrix van laag 1:\n",
      "\t0.5\t0.2\t0.0\t0.0\t-0.2\t\n",
      "\t0.2\t-0.5\t-0.1\t0.9\t-0.8\t\n",
      "\t0.0\t0.2\t0.0\t0.1\t-0.1\t\n",
      "\t0.1\t0.8\t0.3\t0.0\t-0.7\t\n",
      "\n"
     ]
    }
   ],
   "source": [
    "Matrixen = [] \n",
    "for layer in data:\n",
    "    layer = data[layer]\n",
    "    size_in = int(layer[\"size_in\"])\n",
    "    size_out = int(layer[\"size_out\"])\n",
    "    Matrix = np.zeros((size_out,size_in))\n",
    "    for laag in layer[\"weights\"]:\n",
    "        for getal in layer[\"weights\"][laag]:\n",
    "            waarde = float(layer[\"weights\"][laag][getal])*(VectorX[int(laag)-1][0])\n",
    "            Matrix[int(getal)-1,int(laag)-1] = waarde\n",
    "    Matrixen.append(Matrix)\n",
    "    VectorY = (np.sum(Matrix, axis=1))\n",
    "    \n",
    "lagen = 1\n",
    "for Matrix in Matrixen:\n",
    "    printmatrix(Matrix)\n",
    "    lagen +=1"
   ]
  },
  {
   "cell_type": "markdown",
   "metadata": {},
   "source": [
    "#### Het Uitkomen van de Matrix(en)\n",
    "om de Output te weten van de Matrix. kijken we eerst of er 1 of meerdere Matrixen aanwezig zijn.<br> -  als er meerdere Matrixen aanwezig zijn vermenigvuldigd die al deze matrixen en om als laatst vermenigdvuldigt te worden met de inputverctor X<br>  - als er een Matrix is dan vermenigvuldigd deze matrix met de inputverctor X<br> daarna word het uitkomen geprint"
   ]
  },
  {
   "cell_type": "code",
   "execution_count": 15,
   "metadata": {},
   "outputs": [
    {
     "name": "stdout",
     "output_type": "stream",
     "text": [
      "Uitkomen van de matrix(en):\n",
      "\t0.5\t-0.3\t0.2\t0.5\t"
     ]
    }
   ],
   "source": [
    "if len(Matrixen) != 1:\n",
    "    VectorY = Matrixen[0]\n",
    "    for transition in range(1, len(Matrixen)):\n",
    "        VectorY = MatrixVermenigvuldiging(Matrixen[transition], VectorY)\n",
    "    VectorY = MatrixVermenigvuldiging(VectorY, VectorX)\n",
    "else:\n",
    "    VectorY = MatrixVermenigvuldiging(Matrixen[0], VectorX)\n",
    "    \n",
    "print(\"Uitkomen van de matrix(en):\\n\\t\",end=\"\")\n",
    "for item in VectorY:\n",
    "    print(round(item[0],2), end='\\t')"
   ]
  },
  {
   "cell_type": "markdown",
   "metadata": {},
   "source": [
    "### neuraal netwerk met 2 lagen\n",
    "Dit kunnen we dan natuurlijk ook doen voor het tweede bestand, example-2layer.json."
   ]
  },
  {
   "cell_type": "code",
   "execution_count": 16,
   "metadata": {},
   "outputs": [
    {
     "name": "stdout",
     "output_type": "stream",
     "text": [
      "Inputvector:\n",
      "\t1\t1\t1\t1\t1\t\n",
      "\n",
      "Matrix van laag 1:\n",
      "\t0.5\t0.2\t0.0\t0.0\t-0.2\t\n",
      "\t0.2\t-0.5\t-0.1\t0.9\t-0.8\t\n",
      "\t0.0\t0.2\t0.0\t0.1\t-0.1\t\n",
      "\t0.1\t0.8\t0.3\t0.0\t-0.7\t\n",
      "\n",
      "Matrix van laag 2:\n",
      "\t0.5\t0.2\t-0.1\t0.9\t\n",
      "\t0.2\t-0.5\t0.3\t0.1\t\n",
      "\n",
      "Uitkomen van de matrix(en):\n",
      "\t0.62\t0.36\t"
     ]
    }
   ],
   "source": [
    "with open(\"example-2layer.json\") as f:\n",
    "    data = json.load(f)\n",
    "\n",
    "VectorX = []\n",
    "size_in = int(data[list(data.keys())[0]][\"size_in\"])\n",
    "for i in range(size_in):\n",
    "    VectorX.append([1])\n",
    "\n",
    "print(\"Inputvector:\\n\\t\",end=\"\")\n",
    "for item in VectorX:\n",
    "    print(round(item[0],2), end='\\t')\n",
    "print(\"\\n\")\n",
    "\n",
    "Matrixen = [] \n",
    "for layer in data:\n",
    "    layer = data[layer]\n",
    "    size_in = int(layer[\"size_in\"])\n",
    "    size_out = int(layer[\"size_out\"])\n",
    "    Matrix = np.zeros((size_out,size_in))\n",
    "    for laag in layer[\"weights\"]:\n",
    "        for getal in layer[\"weights\"][laag]:\n",
    "            waarde = float(layer[\"weights\"][laag][getal])*(VectorX[int(laag)-1][0])\n",
    "            Matrix[int(getal)-1,int(laag)-1] = waarde\n",
    "    Matrixen.append(Matrix)\n",
    "    VectorY = (np.sum(Matrix, axis=1))\n",
    "\n",
    "lagen = 1\n",
    "for Matrix in Matrixen:\n",
    "    printmatrix(Matrix)\n",
    "    lagen +=1\n",
    "\n",
    "if len(Matrixen) != 1:\n",
    "    VectorY = Matrixen[0]\n",
    "    for transition in range(1, len(Matrixen)):\n",
    "        VectorY = MatrixVermenigvuldiging(Matrixen[transition], VectorY)\n",
    "    VectorY = MatrixVermenigvuldiging(VectorY, VectorX)\n",
    "else:\n",
    "    VectorY = MatrixVermenigvuldiging(Matrixen[0], VectorX)\n",
    "\n",
    "print(\"Uitkomen van de matrix(en):\\n\\t\",end=\"\")\n",
    "for item in VectorY:\n",
    "    print(round(item[0],2), end='\\t')\n",
    "\n"
   ]
  },
  {
   "cell_type": "code",
   "execution_count": null,
   "metadata": {},
   "outputs": [],
   "source": []
  },
  {
   "cell_type": "code",
   "execution_count": null,
   "metadata": {},
   "outputs": [],
   "source": []
  }
 ],
 "metadata": {
  "kernelspec": {
   "display_name": "Python 3",
   "language": "python",
   "name": "python3"
  },
  "language_info": {
   "codemirror_mode": {
    "name": "ipython",
    "version": 3
   },
   "file_extension": ".py",
   "mimetype": "text/x-python",
   "name": "python",
   "nbconvert_exporter": "python",
   "pygments_lexer": "ipython3",
   "version": "3.7.3"
  }
 },
 "nbformat": 4,
 "nbformat_minor": 2
}
