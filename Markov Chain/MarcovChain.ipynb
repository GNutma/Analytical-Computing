{
 "cells": [
  {
   "cell_type": "markdown",
   "metadata": {},
   "source": [
    "# MarcovChain\n",
    "Doormiddel van de onderstaande classe kunnen we gemakkelijk de humeuren van de Flumph berekenen.\n",
    "in de code wordt voornamelijk gebruik gemaakt van de functie np.random.choice() die de keuze bepaalt tussen de humeuren met hun kansen van voorkomen."
   ]
  },
  {
   "cell_type": "code",
   "execution_count": 151,
   "metadata": {},
   "outputs": [],
   "source": [
    "import numpy as np\n",
    " \n",
    "class MarkovChain(object):\n",
    "    def __init__(self, transition_matrix, humeuren):\n",
    "        self.transition_matrix = np.atleast_2d(transition_matrix)\n",
    "        self.humeuren = humeuren\n",
    "        self.index_dict = {self.humeuren[index]: index for index in \n",
    "                           range(len(self.humeuren))}\n",
    "        self.state_dict = {index: self.humeuren[index] for index in\n",
    "                           range(len(self.humeuren))}\n",
    " \n",
    "    def volgende_humeur(self,aantalKeer, huidige_humeur):\n",
    "        return np.random.choice(\n",
    "         self.humeuren, aantalKeer,\n",
    "         p=self.transition_matrix[self.index_dict[huidige_humeur], :]\n",
    "        )"
   ]
  },
  {
   "cell_type": "code",
   "execution_count": 152,
   "metadata": {},
   "outputs": [
    {
     "name": "stdout",
     "output_type": "stream",
     "text": [
      "Humeur Hongerig heeft een kans van 41.4%\n",
      "Humeur Opgejaagd heeft een kans van 8.200000000000001%\n",
      "Humeur Tevreden heeft een kans van 50.4%\n"
     ]
    }
   ],
   "source": [
    "transition_matrix = [[0.8, 0.1, 0.1],\n",
    "                     [0.4, 0.5, 0.1],\n",
    "                     [0.6, 0.2, 0.2]]\n",
    "\n",
    "for lijst in transition_matrix:\n",
    "    if sum(lijst) != 1:\n",
    "        print(\"fout in Matrix telt niet op tot 100%\")\n",
    "\n",
    "toestanden=['Hongerig', 'Tevreden', 'Opgejaagd']\n",
    "Flumph_humeur= MarkovChain(transition_matrix=transition_matrix,humeuren = toestanden)\n",
    "\n",
    "def key_in_dict(key, dict):\n",
    "    if key not in dict.keys():\n",
    "        dict.update({key: 1})\n",
    "    elif key in dict.keys():\n",
    "        dict.update({key: (dict.get(key) + 1)})\n",
    "\n",
    "x= 1000\n",
    "lst = (Flumph_humeur.volgende_humeur(aantalKeer = x,huidige_humeur=(np.random.choice(toestanden, 1, p=[0.1, 0.7, 0.2])[0])))\n",
    "\n",
    "dict={}\n",
    "for humeur in lst:\n",
    "    key_in_dict(humeur, dict)\n",
    "\n",
    "print(\"Humeur Hongerig heeft een kans van {}%\".format(dict.get(\"Hongerig\")/x*100))\n",
    "print(\"Humeur Opgejaagd heeft een kans van {}%\".format(dict.get(\"Opgejaagd\")/x*100))\n",
    "print(\"Humeur Tevreden heeft een kans van {}%\".format(dict.get(\"Tevreden\")/x*100))"
   ]
  },
  {
   "cell_type": "markdown",
   "metadata": {},
   "source": [
    "zoals je ziet kunnen we zo de kans berekenen welk humeur de flumph zou hebben."
   ]
  },
  {
   "cell_type": "code",
   "execution_count": 153,
   "metadata": {},
   "outputs": [
    {
     "name": "stdout",
     "output_type": "stream",
     "text": [
      "Humeur Hongerig heeft een kans van 58.8%\n",
      "Humeur Opgejaagd heeft een kans van 10.8%\n",
      "Humeur Tevreden heeft een kans van 10.2%\n",
      "Humeur Tevreden heeft een kans van 20.200000000000003%\n"
     ]
    }
   ],
   "source": [
    "transition_matrix = [[0.6, 0.1, 0.1, 0.2],\n",
    "                     [0.4, 0.3, 0.1, 0.2],\n",
    "                     [0.5, 0.2, 0.1, 0.2],\n",
    "                     [0.1, 0.2, 0.5, 0.2]]\n",
    "\n",
    "for lijst in transition_matrix:\n",
    "    if sum(lijst) != 1:\n",
    "        print(\"fout in Matrix telt niet op tot 100%\")\n",
    "        \n",
    "toestanden=['Hongerig', 'Tevreden', 'Opgejaagd','Vrolijk']\n",
    "Flumph_humeur= MarkovChain(transition_matrix=transition_matrix,humeuren = toestanden)\n",
    "\n",
    "def key_in_dict(key, dict):\n",
    "    if key not in dict.keys():\n",
    "        dict.update({key: 1})\n",
    "    elif key in dict.keys():\n",
    "        dict.update({key: (dict.get(key) + 1)})\n",
    "        \n",
    "x= 1000\n",
    "lst = (Flumph_humeur.volgende_humeur(aantalKeer = x,huidige_humeur=(np.random.choice(toestanden, 1, p=[0.5, 0.2, 0.2,0.1])[0])))\n",
    "    \n",
    "dict={}\n",
    "for humeur in lst:\n",
    "    key_in_dict(humeur, dict)\n",
    "\n",
    "print(\"Humeur Hongerig heeft een kans van {}%\".format(dict.get(\"Hongerig\")/x*100))\n",
    "print(\"Humeur Opgejaagd heeft een kans van {}%\".format(dict.get(\"Opgejaagd\")/x*100))\n",
    "print(\"Humeur Tevreden heeft een kans van {}%\".format(dict.get(\"Tevreden\")/x*100))\n",
    "print(\"Humeur Tevreden heeft een kans van {}%\".format(dict.get(\"Vrolijk\")/x*100))"
   ]
  },
  {
   "cell_type": "markdown",
   "metadata": {},
   "source": [
    "dit werkt ook met een extra humeur er bij"
   ]
  },
  {
   "cell_type": "markdown",
   "metadata": {},
   "source": [
    "## De Bayes:\n",
    "in dit stuk code wordt toegepast dat er een kans van 25% bestaat dat de Flumph zwanger is."
   ]
  },
  {
   "cell_type": "code",
   "execution_count": 154,
   "metadata": {},
   "outputs": [
    {
     "name": "stdout",
     "output_type": "stream",
     "text": [
      "Humeur Hongerig heeft een kans van 81.89999999999999%\n",
      "Humeur Opgejaagd heeft een kans van 8.7%\n",
      "Humeur Tevreden heeft een kans van 9.4%\n"
     ]
    }
   ],
   "source": [
    "import numpy as np\n",
    " \n",
    "class MarkovChain(object):\n",
    "    def __init__(self, transition_matrix, humeuren):\n",
    "        self.transition_matrix = np.atleast_2d(transition_matrix)\n",
    "        self.humeuren = humeuren\n",
    "        self.index_dict = {self.humeuren[index]: index for index in \n",
    "                           range(len(self.humeuren))}\n",
    "        self.state_dict = {index: self.humeuren[index] for index in\n",
    "                           range(len(self.humeuren))}\n",
    " \n",
    "    def volgende_humeur(self,aantalKeer, huidige_humeur):\n",
    "        return np.random.choice(\n",
    "         self.humeuren, aantalKeer,\n",
    "         p=self.transition_matrix[self.index_dict[huidige_humeur], :]\n",
    "        )\n",
    "\n",
    "transition_matrix = [[0.8, 0.1, 0.1],\n",
    "                     [0.4, 0.5, 0.1],\n",
    "                     [0.6, 0.2, 0.2]]\n",
    "\n",
    "for lijst in transition_matrix:\n",
    "    if sum(lijst) != 1:\n",
    "        print(\"fout in Matrix telt niet op tot 100%\")\n",
    "x = 1000\n",
    "\n",
    "toestanden=['Hongerig', 'Tevreden', 'Opgejaagd']\n",
    "Flumph_humeur= MarkovChain(transition_matrix=transition_matrix,humeuren = toestanden)\n",
    "\n",
    "if np.random.choice(['zwanger','niet zwanger'],1,p=[0.25,0.75])[0] == \"zwanger\":\n",
    "    lst = Flumph_humeur.volgende_humeur(aantalKeer = x,huidige_humeur=(np.random.choice(toestanden, 1, p=[0.7, 0.1, 0.2])[0]))\n",
    "    dict={}\n",
    "    for humeur in lst:\n",
    "        key_in_dict(humeur, dict)\n",
    "    print(\"Humeur Hongerig heeft een kans van {}%\".format(dict.get(\"Hongerig\")/x*100))\n",
    "    print(\"Humeur Opgejaagd heeft een kans van {}%\".format(dict.get(\"Opgejaagd\")/x*100))\n",
    "    print(\"Humeur Tevreden heeft een kans van {}%\".format(dict.get(\"Tevreden\")/x*100))\n",
    "else:\n",
    "    lst = Flumph_humeur.volgende_humeur(aantalKeer = x,huidige_humeur=(np.random.choice(toestanden, 1, p=[0.5, 0.35, 0.15])[0]))\n",
    "    dict={}\n",
    "    for humeur in lst:\n",
    "        key_in_dict(humeur, dict)\n",
    "    print(\"Humeur Hongerig heeft een kans van {}%\".format(dict.get(\"Hongerig\")/x*100))\n",
    "    print(\"Humeur Opgejaagd heeft een kans van {}%\".format(dict.get(\"Opgejaagd\")/x*100))\n",
    "    print(\"Humeur Tevreden heeft een kans van {}%\".format(dict.get(\"Tevreden\")/x*100))\n",
    "    "
   ]
  },
  {
   "cell_type": "markdown",
   "metadata": {},
   "source": [
    "het lukt mij echter niet om te berekeken wat de kans is dat de Flumph wel of niet zwanger is. "
   ]
  },
  {
   "cell_type": "code",
   "execution_count": null,
   "metadata": {},
   "outputs": [],
   "source": []
  }
 ],
 "metadata": {
  "kernelspec": {
   "display_name": "Python 3",
   "language": "python",
   "name": "python3"
  },
  "language_info": {
   "codemirror_mode": {
    "name": "ipython",
    "version": 3
   },
   "file_extension": ".py",
   "mimetype": "text/x-python",
   "name": "python",
   "nbconvert_exporter": "python",
   "pygments_lexer": "ipython3",
   "version": "3.7.3"
  }
 },
 "nbformat": 4,
 "nbformat_minor": 2
}
